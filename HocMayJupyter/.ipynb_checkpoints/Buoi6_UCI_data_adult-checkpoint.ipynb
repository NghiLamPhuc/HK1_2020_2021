{
 "cells": [
  {
   "cell_type": "code",
   "execution_count": 4,
   "metadata": {},
   "outputs": [
    {
     "name": "stdout",
     "output_type": "stream",
     "text": [
      "(32560, 15)\n",
      "Index(['39', ' State-gov', ' 77516', ' Bachelors', ' 13', ' Never-married',\n",
      "       ' Adm-clerical', ' Not-in-family', ' White', ' Male', ' 2174', ' 0',\n",
      "       ' 40', ' United-States', ' <=50K'],\n",
      "      dtype='object')\n"
     ]
    }
   ],
   "source": [
    "import numpy as np\n",
    "import pandas as pd\n",
    "df = pd.read_csv(\"Data/adult.data\")\n",
    "print(df.shape)\n",
    "print(df.columns)\n",
    "# print(df.head(5))"
   ]
  },
  {
   "cell_type": "code",
   "execution_count": 5,
   "metadata": {},
   "outputs": [
    {
     "name": "stdout",
     "output_type": "stream",
     "text": [
      "32560\n",
      "200\n"
     ]
    }
   ],
   "source": [
    "print(len(df))\n",
    "df = df.sample(n=200)\n",
    "print(len(df))"
   ]
  },
  {
   "cell_type": "code",
   "execution_count": 7,
   "metadata": {},
   "outputs": [
    {
     "name": "stdout",
     "output_type": "stream",
     "text": [
      "(200, 15)\n",
      "(200,)\n",
      "[' >50K' ' <=50K' ' <=50K']\n"
     ]
    }
   ],
   "source": [
    "a = df.values\n",
    "print(a.shape)\n",
    "y = a[:,-1:]\n",
    "y = y.ravel()\n",
    "print(y.shape)\n",
    "print(y[:3])"
   ]
  },
  {
   "cell_type": "code",
   "execution_count": 18,
   "metadata": {},
   "outputs": [
    {
     "name": "stdout",
     "output_type": "stream",
     "text": [
      "[1 0 0 0 1 0 0 0 1 0]\n",
      "200\n",
      "41\n",
      "159\n"
     ]
    }
   ],
   "source": [
    "from sklearn.preprocessing import LabelEncoder\n",
    "LE = LabelEncoder()\n",
    "y = LE.fit_transform(y)\n",
    "print(y[:10])\n",
    "print(len(y))\n",
    "y1 = y[y==1]\n",
    "print(len(y1))\n",
    "y0 = y[y==0]\n",
    "print(len(y0))"
   ]
  },
  {
   "cell_type": "code",
   "execution_count": 19,
   "metadata": {
    "scrolled": true
   },
   "outputs": [
    {
     "name": "stdout",
     "output_type": "stream",
     "text": [
      "b's shape: (200, 6)\n",
      "       39   77516   13   2174     0   40\n",
      "18356  50  145333   16  10520     0   50\n",
      "23979  70  149040    9   2964     0   12\n",
      "24488  55  306164    9      0     0   40\n",
      "30343  23  268525    9      0     0   48\n",
      "21732  30  231826   10      0     0   40\n",
      "...    ..     ...  ...    ...   ...  ...\n",
      "16787  64   59145   16      0  1902   60\n",
      "4700   36  167482    6      0     0   40\n",
      "20811  20  103840    9      0     0   42\n",
      "15625  59  168569   15      0     0   50\n",
      "15976  44  222978    9      0  1504   40\n",
      "\n",
      "[200 rows x 6 columns]\n",
      "X's shape: (200, 6)\n",
      "[[    50 145333     16  10520      0     50]\n",
      " [    70 149040      9   2964      0     12]\n",
      " [    55 306164      9      0      0     40]]\n"
     ]
    }
   ],
   "source": [
    "b = df.select_dtypes(include=['float64', 'int64'])\n",
    "print(\"b's shape:\", b.shape)\n",
    "print(b)\n",
    "X = b.values\n",
    "print(\"X's shape:\", X.shape)\n",
    "print(X[:3])"
   ]
  },
  {
   "cell_type": "code",
   "execution_count": 20,
   "metadata": {},
   "outputs": [
    {
     "name": "stdout",
     "output_type": "stream",
     "text": [
      "[[0.45205479 0.22468292 1.         0.70021299 0.         0.61038961]\n",
      " [0.7260274  0.23175103 0.5        0.19728435 0.         0.11688312]\n",
      " [0.52054795 0.53133842 0.5        0.         0.         0.48051948]\n",
      " ...\n",
      " [0.04109589 0.14556846 0.5        0.         0.         0.50649351]\n",
      " [0.57534247 0.26898686 0.92857143 0.         0.         0.61038961]\n",
      " [0.36986301 0.37272817 0.5        0.         0.63945578 0.48051948]]\n"
     ]
    }
   ],
   "source": [
    "from sklearn.preprocessing import MinMaxScaler\n",
    "scaler = MinMaxScaler()\n",
    "scaler.fit(X)\n",
    "X = scaler.transform(X)\n",
    "print(X)"
   ]
  },
  {
   "cell_type": "code",
   "execution_count": 21,
   "metadata": {},
   "outputs": [
    {
     "name": "stdout",
     "output_type": "stream",
     "text": [
      "(160, 6) (160,)\n",
      "(40, 6) (40,)\n"
     ]
    }
   ],
   "source": [
    "from sklearn.model_selection import train_test_split\n",
    "X_train, X_test, y_train, y_test = train_test_split(X, y, test_size=0.2, random_state = 1)\n",
    "print(X_train.shape, y_train.shape)\n",
    "print(X_test.shape, y_test.shape)\n"
   ]
  },
  {
   "cell_type": "code",
   "execution_count": 23,
   "metadata": {},
   "outputs": [
    {
     "name": "stdout",
     "output_type": "stream",
     "text": [
      "y_pred_svm:\n",
      " [0 0 0 0 0 1 0 0 0 0 0 0 0 0 0 0 0 0 1 0 0 0 0 1 0 0 0 0 0 0 1 0 0 0 0 0 0\n",
      " 0 0 0]\n",
      "y_true:\n",
      " [0 1 0 0 1 0 0 1 0 0 0 0 0 0 0 0 0 0 1 0 0 1 0 1 0 1 0 1 0 1 0 0 0 1 1 0 0\n",
      " 1 0 0]\n",
      "accuracy:\n",
      " 0.7\n"
     ]
    }
   ],
   "source": [
    "#svm\n",
    "from sklearn import svm\n",
    "from sklearn import metrics\n",
    "svm_classifier = svm.SVC(kernel='linear', gamma=0.01, C=100.)\n",
    "svm_classifier.fit(X_train, y_train)\n",
    "\n",
    "y_pred_svm = svm_classifier.predict(X_test)\n",
    "print('y_pred_svm:\\n', y_pred_svm)\n",
    "print('y_true:\\n', y_test)\n",
    "\n",
    "acc_score_svm = metrics.accuracy_score(y_pred_svm, y_test)\n",
    "print('accuracy:\\n', acc_score_svm)\n"
   ]
  },
  {
   "cell_type": "code",
   "execution_count": 24,
   "metadata": {},
   "outputs": [
    {
     "name": "stdout",
     "output_type": "stream",
     "text": [
      "y_pred:\n",
      " [0 0 0 0 0 0 0 0 0 0 0 0 0 0 0 0 0 1 1 0 0 0 0 0 0 0 0 0 0 1 0 0 0 0 0 0 0\n",
      " 0 0 0]\n",
      "y_true:\n",
      " [0 1 0 0 1 0 0 1 0 0 0 0 0 0 0 0 0 0 1 0 0 1 0 1 0 1 0 1 0 1 0 0 0 1 1 0 0\n",
      " 1 0 0]\n",
      "accuracy:\n",
      " 0.725\n"
     ]
    }
   ],
   "source": [
    "#Phan loai voi KNN\n",
    "from sklearn.neighbors import KNeighborsClassifier\n",
    "k = 5\n",
    "knn = KNeighborsClassifier(n_neighbors=k, metric='euclidean')\n",
    "knn.fit(X_train, y_train)\n",
    "\n",
    "y_pred = knn.predict(X_test)\n",
    "print('y_pred:\\n', y_pred)\n",
    "print('y_true:\\n', y_test)\n",
    "\n",
    "#Tính accuracy\n",
    "acc_score = metrics.accuracy_score(y_pred, y_test)\n",
    "print('accuracy:\\n', acc_score)"
   ]
  },
  {
   "cell_type": "code",
   "execution_count": 25,
   "metadata": {},
   "outputs": [
    {
     "name": "stdout",
     "output_type": "stream",
     "text": [
      "y_pred_logistic:\n",
      " [0 0 0 0 0 0 0 0 0 0 0 0 0 0 0 0 0 0 0 0 0 0 0 0 0 0 0 0 0 0 0 0 0 0 0 0 0\n",
      " 0 0 0]\n",
      "accuracy:\n",
      " 0.7\n"
     ]
    }
   ],
   "source": [
    "#Logistic Regression\n",
    "from sklearn.linear_model import LogisticRegression\n",
    "model = LogisticRegression()\n",
    "model = model.fit(X_train, y_train)\n",
    "y_pred_logistic = model.predict(X_test)\n",
    "print('y_pred_logistic:\\n', y_pred_logistic)\n",
    "acc_score_logistic = metrics.accuracy_score(y_pred_logistic, y_test)\n",
    "print('accuracy:\\n', acc_score_logistic)"
   ]
  },
  {
   "cell_type": "code",
   "execution_count": null,
   "metadata": {},
   "outputs": [],
   "source": []
  }
 ],
 "metadata": {
  "kernelspec": {
   "display_name": "Python 3",
   "language": "python",
   "name": "python3"
  },
  "language_info": {
   "codemirror_mode": {
    "name": "ipython",
    "version": 3
   },
   "file_extension": ".py",
   "mimetype": "text/x-python",
   "name": "python",
   "nbconvert_exporter": "python",
   "pygments_lexer": "ipython3",
   "version": "3.8.3"
  }
 },
 "nbformat": 4,
 "nbformat_minor": 4
}
