{
 "cells": [
  {
   "cell_type": "code",
   "execution_count": 7,
   "metadata": {
    "scrolled": false
   },
   "outputs": [
    {
     "name": "stdout",
     "output_type": "stream",
     "text": [
      "(740, 21)\n",
      "<class 'pandas.core.frame.DataFrame'>\n",
      "RangeIndex: 740 entries, 0 to 739\n",
      "Data columns (total 21 columns):\n",
      " #   Column                           Non-Null Count  Dtype  \n",
      "---  ------                           --------------  -----  \n",
      " 0   ID                               740 non-null    int64  \n",
      " 1   Reason for absence               740 non-null    int64  \n",
      " 2   Month of absence                 740 non-null    int64  \n",
      " 3   Day of the week                  740 non-null    int64  \n",
      " 4   Seasons                          740 non-null    int64  \n",
      " 5   Transportation expense           740 non-null    int64  \n",
      " 6   Distance from Residence to Work  740 non-null    int64  \n",
      " 7   Service time                     740 non-null    int64  \n",
      " 8   Age                              740 non-null    int64  \n",
      " 9   Work load Average/day            740 non-null    float64\n",
      " 10  Hit target                       740 non-null    int64  \n",
      " 11  Disciplinary failure             740 non-null    int64  \n",
      " 12  Education                        740 non-null    int64  \n",
      " 13  Son                              740 non-null    int64  \n",
      " 14  Social drinker                   740 non-null    int64  \n",
      " 15  Social smoker                    740 non-null    int64  \n",
      " 16  Pet                              740 non-null    int64  \n",
      " 17  Weight                           740 non-null    int64  \n",
      " 18  Height                           740 non-null    int64  \n",
      " 19  Body mass index                  740 non-null    int64  \n",
      " 20  Absenteeism time in hours        740 non-null    int64  \n",
      "dtypes: float64(1), int64(20)\n",
      "memory usage: 121.5 KB\n",
      "   ID  Reason for absence  Month of absence  Day of the week  Seasons  \\\n",
      "0  11                  26                 7                3        1   \n",
      "1  36                   0                 7                3        1   \n",
      "2   3                  23                 7                4        1   \n",
      "\n",
      "   Transportation expense  Distance from Residence to Work  Service time  Age  \\\n",
      "0                     289                               36            13   33   \n",
      "1                     118                               13            18   50   \n",
      "2                     179                               51            18   38   \n",
      "\n",
      "   Work load Average/day   ...  Disciplinary failure  Education  Son  \\\n",
      "0                 239.554  ...                     0          1    2   \n",
      "1                 239.554  ...                     1          1    1   \n",
      "2                 239.554  ...                     0          1    0   \n",
      "\n",
      "   Social drinker  Social smoker  Pet  Weight  Height  Body mass index  \\\n",
      "0               1              0    1      90     172               30   \n",
      "1               1              0    0      98     178               31   \n",
      "2               1              0    0      89     170               31   \n",
      "\n",
      "   Absenteeism time in hours  \n",
      "0                          4  \n",
      "1                          0  \n",
      "2                          2  \n",
      "\n",
      "[3 rows x 21 columns]\n"
     ]
    }
   ],
   "source": [
    "import numpy as np\n",
    "import pandas as pd\n",
    "from sklearn.model_selection import train_test_split\n",
    "from sklearn.preprocessing import StandardScaler\n",
    "df = pd.read_csv(\"Data/Absenteeism_at_work_AAA/Absenteeism_at_work.csv\", sep=';')\n",
    "print(df.shape)\n",
    "df.info()\n",
    "print(df.head(3))"
   ]
  },
  {
   "cell_type": "code",
   "execution_count": 8,
   "metadata": {},
   "outputs": [
    {
     "name": "stdout",
     "output_type": "stream",
     "text": [
      "ID                                 0\n",
      "Reason for absence                 0\n",
      "Month of absence                   0\n",
      "Day of the week                    0\n",
      "Seasons                            0\n",
      "Transportation expense             0\n",
      "Distance from Residence to Work    0\n",
      "Service time                       0\n",
      "Age                                0\n",
      "Work load Average/day              0\n",
      "Hit target                         0\n",
      "Disciplinary failure               0\n",
      "Education                          0\n",
      "Son                                0\n",
      "Social drinker                     0\n",
      "Social smoker                      0\n",
      "Pet                                0\n",
      "Weight                             0\n",
      "Height                             0\n",
      "Body mass index                    0\n",
      "Absenteeism time in hours          0\n",
      "dtype: int64\n"
     ]
    }
   ],
   "source": [
    "print(df.isnull().sum())\n",
    "# print(df.isna().sum())\n",
    "##https://stackoverflow.com/questions/36226083/how-to-find-which-columns-contain-any-nan-value-in-pandas-dataframe"
   ]
  },
  {
   "cell_type": "code",
   "execution_count": 14,
   "metadata": {},
   "outputs": [],
   "source": [
    "# from sklearn.preprocessing import MinMaxScaler\n",
    "# scaler = MinMaxScaler()\n",
    "# new_data = df.copy()\n",
    "# scaler.fit(new_data)\n",
    "# new_data = scaler.transform(new_data)\n",
    "# print(new_data[0])"
   ]
  },
  {
   "cell_type": "code",
   "execution_count": 15,
   "metadata": {
    "scrolled": true
   },
   "outputs": [
    {
     "name": "stdout",
     "output_type": "stream",
     "text": [
      "Doi tuong 1 co 19 thuoc tinh:  [[ 26.      7.      3.      1.    289.     36.     13.     33.    239.554\n",
      "   97.      0.      1.      2.      1.      0.      1.     90.    172.\n",
      "   30.   ]]\n",
      "Co 19 phan lop:  {0.0, 1.0, 2.0, 3.0, 4.0, 5.0, 7.0, 8.0, 16.0, 24.0, 32.0, 40.0, 48.0, 56.0, 64.0, 80.0, 104.0, 112.0, 120.0}\n",
      "(666, 19) (666,)\n",
      "(74, 19) (74,)\n"
     ]
    }
   ],
   "source": [
    "X = df.values[:,1:-1]\n",
    "y = df.values[:,-1:]\n",
    "# X = new_data.values[:,1:-1]\n",
    "# y = new_data.values[:,-1:]\n",
    "y = y.ravel()\n",
    "print('Doi tuong 1 co {} thuoc tinh: '.format(X[:1].shape[1]), X[:1])\n",
    "\n",
    "set_y = set(y.flatten()) #flatten đưa y về 1 chiều\n",
    "print('Co {} phan lop: '.format(len(set_y)), set_y)\n",
    "\n",
    "X_train, X_test, y_train, y_test = train_test_split(X, y, test_size = 0.1, random_state = 42)\n",
    "\n",
    "print(X_train.shape, y_train.shape)\n",
    "print(X_test.shape, y_test.shape)"
   ]
  },
  {
   "cell_type": "code",
   "execution_count": 5,
   "metadata": {},
   "outputs": [
    {
     "name": "stdout",
     "output_type": "stream",
     "text": [
      "y_pred:\n",
      " [2. 2. 4. 8. 4. 8. 3. 2. 8. 1. 8. 8. 4. 8. 3. 8. 3. 2. 4. 4. 8. 1. 1. 0.\n",
      " 3. 8. 8. 2. 3. 8. 8. 2. 8. 2. 8. 4. 2. 1. 8. 2. 8. 3. 8. 1. 3. 2. 8. 8.\n",
      " 8. 2. 2. 1. 1. 3. 2. 8. 1. 0. 8. 8. 8. 2. 2. 3. 8. 8. 2. 1. 8. 8. 8. 1.\n",
      " 4. 4.]\n",
      "y_true:\n",
      " [ 1.  4.  8.  2.  4.  2.  2.  5.  8.  1.  0.  0.  4.  8.  0. 24.  1.  3.\n",
      "  8.  4.  3.  1.  8.  0.  2.  3.  1.  2.  2.  8.  8.  3.  8.  3.  1.  3.\n",
      "  8.  2.  8.  8.  3.  8.  2.  2.  2.  2.  8.  8.  3.  1.  2. 16.  8.  3.\n",
      "  1.  0.  2.  0.  8.  8.  8.  2. 24.  8.  8.  8.  3.  3.  4. 24.  2.  8.\n",
      "  8.  2.]\n",
      "accuracy:\n",
      " 0.33783783783783783\n"
     ]
    }
   ],
   "source": [
    "#Phan loai voi KNN\n",
    "from sklearn.neighbors import KNeighborsClassifier\n",
    "from sklearn import metrics\n",
    "k = 5\n",
    "knn = KNeighborsClassifier(n_neighbors=k, metric='euclidean')\n",
    "knn.fit(X_train, y_train)\n",
    "\n",
    "y_pred = knn.predict(X_test)\n",
    "print('y_pred:\\n', y_pred)\n",
    "print('y_true:\\n', y_test)\n",
    "\n",
    "#Tính accuracy\n",
    "acc_score = metrics.accuracy_score(y_pred, y_test)\n",
    "print('accuracy:\\n', acc_score)"
   ]
  },
  {
   "cell_type": "code",
   "execution_count": 6,
   "metadata": {},
   "outputs": [
    {
     "name": "stdout",
     "output_type": "stream",
     "text": [
      "y_pred_logistic:\n",
      " [2. 2. 8. 8. 2. 8. 2. 8. 8. 3. 0. 8. 8. 8. 8. 0. 1. 2. 2. 3. 8. 8. 3. 0.\n",
      " 2. 8. 8. 8. 2. 8. 8. 8. 8. 2. 8. 3. 8. 8. 2. 8. 8. 8. 8. 2. 2. 2. 8. 8.\n",
      " 8. 2. 2. 0. 8. 8. 2. 0. 2. 8. 8. 2. 8. 2. 2. 8. 8. 8. 2. 1. 2. 8. 2. 8.\n",
      " 3. 8.]\n",
      "accuracy:\n",
      " 0.44594594594594594\n"
     ]
    },
    {
     "name": "stderr",
     "output_type": "stream",
     "text": [
      "C:\\Users\\lamph\\anaconda3\\lib\\site-packages\\sklearn\\linear_model\\_logistic.py:762: ConvergenceWarning: lbfgs failed to converge (status=1):\n",
      "STOP: TOTAL NO. of ITERATIONS REACHED LIMIT.\n",
      "\n",
      "Increase the number of iterations (max_iter) or scale the data as shown in:\n",
      "    https://scikit-learn.org/stable/modules/preprocessing.html\n",
      "Please also refer to the documentation for alternative solver options:\n",
      "    https://scikit-learn.org/stable/modules/linear_model.html#logistic-regression\n",
      "  n_iter_i = _check_optimize_result(\n"
     ]
    }
   ],
   "source": [
    "#Logistic Regression\n",
    "from sklearn.linear_model import LogisticRegression\n",
    "model = LogisticRegression()\n",
    "model = model.fit(X_train, y_train)\n",
    "y_pred_logistic = model.predict(X_test)\n",
    "print('y_pred_logistic:\\n', y_pred_logistic)\n",
    "acc_score_logistic = metrics.accuracy_score(y_pred_logistic, y_test)\n",
    "print('accuracy:\\n', acc_score_logistic)"
   ]
  },
  {
   "cell_type": "code",
   "execution_count": 18,
   "metadata": {},
   "outputs": [],
   "source": [
    "from sklearn.ensemble import RandomForestRegressor\n",
    "model = RandomForestRegressor(n_estimators=1000, random_state=0, oob_score=True, n_jobs=-1)\n",
    "model.fit(X_train,y_train)\n",
    "y_pred = model.predict(X_test)\n"
   ]
  },
  {
   "cell_type": "code",
   "execution_count": 22,
   "metadata": {},
   "outputs": [
    {
     "name": "stdout",
     "output_type": "stream",
     "text": [
      "Out-of-bag score : 0.00113\n",
      "Test data R-2 score: -1.43\n",
      "Test set of RMSE : 7.85\n",
      "Test data Spearman correlation: 0.625\n",
      "Test data Pearson correlation: 0.359\n"
     ]
    }
   ],
   "source": [
    "from sklearn.metrics import r2_score,mean_squared_error\n",
    "from scipy.stats import spearmanr,pearsonr\n",
    "test_score = r2_score(y_test, y_pred)\n",
    "spearman = spearmanr(y_test, y_pred)\n",
    "pearson = pearsonr(y_test, y_pred)\n",
    "rmse_test = mean_squared_error(y_test, y_pred) ** (1/2)\n",
    "\n",
    "print(f'Out-of-bag score : {model.oob_score_:>5.3}')\n",
    "print(f'Test data R-2 score: {test_score:>5.3}')\n",
    "print(f'Test set of RMSE : {rmse_test:.2f}')\n",
    "print(f'Test data Spearman correlation: {spearman[0]:.3}')\n",
    "print(f'Test data Pearson correlation: {pearson[0]:.3}')"
   ]
  },
  {
   "cell_type": "code",
   "execution_count": 40,
   "metadata": {},
   "outputs": [],
   "source": [
    "from sklearn.tree import DecisionTreeClassifier\n",
    "model = DecisionTreeClassifier(criterion='entropy', max_depth=4, random_state=42)\n",
    "model.fit(X_train, y_train)\n",
    "y_pred = model.predict(X_test)"
   ]
  },
  {
   "cell_type": "code",
   "execution_count": 41,
   "metadata": {},
   "outputs": [],
   "source": [
    "from sklearn.metrics import confusion_matrix\n",
    "cm = confusion_matrix(y_test, y_pred)\n"
   ]
  },
  {
   "cell_type": "code",
   "execution_count": 43,
   "metadata": {
    "scrolled": true
   },
   "outputs": [
    {
     "data": {
      "text/plain": [
       "[Text(132.525, 195.696, 'X[0] <= 22.5\\nentropy = 2.941\\nsamples = 666\\nvalue = [38, 80, 141, 101, 55, 6, 1, 185, 18, 13, 6, 7\\n1, 2, 3, 3, 1, 2, 3]'),\n",
       " Text(41.85, 152.208, 'X[0] <= 0.5\\nentropy = 2.809\\nsamples = 310\\nvalue = [37, 18, 16, 30, 9, 1, 0, 144, 14, 13, 6, 7, 1\\n2, 3, 3, 1, 2, 3]'),\n",
       " Text(27.900000000000002, 108.72, 'entropy = 0.0\\nsamples = 37\\nvalue = [37, 0, 0, 0, 0, 0, 0, 0, 0, 0, 0, 0, 0, 0\\n0, 0, 0, 0, 0]'),\n",
       " Text(55.800000000000004, 108.72, 'X[13] <= 0.5\\nentropy = 2.591\\nsamples = 273\\nvalue = [0, 18, 16, 30, 9, 1, 0, 144, 14, 13, 6, 7, 1\\n2, 3, 3, 1, 2, 3]'),\n",
       " Text(27.900000000000002, 65.232, 'X[4] <= 181.5\\nentropy = 2.452\\nsamples = 123\\nvalue = [0, 13, 12, 20, 3, 1, 0, 60, 5, 1, 1, 1, 0, 1\\n2, 0, 0, 2, 1]'),\n",
       " Text(13.950000000000001, 21.744, 'entropy = 2.71\\nsamples = 49\\nvalue = [0, 5, 10, 8, 0, 1, 0, 17, 2, 1, 1, 1, 0, 1\\n2, 0, 0, 0, 0]'),\n",
       " Text(41.85, 21.744, 'entropy = 1.968\\nsamples = 74\\nvalue = [0, 8, 2, 12, 3, 0, 0, 43, 3, 0, 0, 0, 0, 0\\n0, 0, 0, 2, 1]'),\n",
       " Text(83.7, 65.232, 'X[17] <= 173.5\\nentropy = 2.491\\nsamples = 150\\nvalue = [0, 5, 4, 10, 6, 0, 0, 84, 9, 12, 5, 6, 1, 1\\n1, 3, 1, 0, 2]'),\n",
       " Text(69.75, 21.744, 'entropy = 2.092\\nsamples = 112\\nvalue = [0, 4, 1, 3, 6, 0, 0, 71, 7, 8, 4, 5, 0, 1\\n0, 1, 1, 0, 0]'),\n",
       " Text(97.65, 21.744, 'entropy = 2.971\\nsamples = 38\\nvalue = [0, 1, 3, 7, 0, 0, 0, 13, 2, 4, 1, 1, 1, 0\\n1, 2, 0, 0, 2]'),\n",
       " Text(223.20000000000002, 152.208, 'X[1] <= 3.5\\nentropy = 2.381\\nsamples = 356\\nvalue = [1, 62, 125, 71, 46, 5, 1, 41, 4, 0, 0, 0, 0\\n0, 0, 0, 0, 0, 0]'),\n",
       " Text(167.4, 108.72, 'X[8] <= 283.417\\nentropy = 1.986\\nsamples = 119\\nvalue = [1, 11, 60, 32, 4, 2, 0, 7, 2, 0, 0, 0, 0, 0\\n0, 0, 0, 0, 0]'),\n",
       " Text(139.5, 65.232, 'X[8] <= 258.033\\nentropy = 1.531\\nsamples = 70\\nvalue = [0, 0, 34, 29, 1, 1, 0, 4, 1, 0, 0, 0, 0, 0\\n0, 0, 0, 0, 0]'),\n",
       " Text(125.55000000000001, 21.744, 'entropy = 1.574\\nsamples = 47\\nvalue = [0, 0, 18, 23, 1, 0, 0, 4, 1, 0, 0, 0, 0, 0\\n0, 0, 0, 0, 0]'),\n",
       " Text(153.45000000000002, 21.744, 'entropy = 1.067\\nsamples = 23\\nvalue = [0, 0, 16, 6, 0, 1, 0, 0, 0, 0, 0, 0, 0, 0\\n0, 0, 0, 0, 0]'),\n",
       " Text(195.3, 65.232, 'X[8] <= 321.797\\nentropy = 2.053\\nsamples = 49\\nvalue = [1, 11, 26, 3, 3, 1, 0, 3, 1, 0, 0, 0, 0, 0\\n0, 0, 0, 0, 0]'),\n",
       " Text(181.35000000000002, 21.744, 'entropy = 1.546\\nsamples = 36\\nvalue = [1, 7, 23, 3, 0, 0, 0, 2, 0, 0, 0, 0, 0, 0\\n0, 0, 0, 0, 0]'),\n",
       " Text(209.25000000000003, 21.744, 'entropy = 2.354\\nsamples = 13\\nvalue = [0, 4, 3, 0, 3, 1, 0, 1, 1, 0, 0, 0, 0, 0\\n0, 0, 0, 0, 0]'),\n",
       " Text(279.0, 108.72, 'X[12] <= 2.5\\nentropy = 2.433\\nsamples = 237\\nvalue = [0, 51, 65, 39, 42, 3, 1, 34, 2, 0, 0, 0, 0\\n0, 0, 0, 0, 0, 0]'),\n",
       " Text(251.10000000000002, 65.232, 'X[7] <= 42.0\\nentropy = 2.403\\nsamples = 213\\nvalue = [0, 51, 65, 32, 31, 3, 1, 28, 2, 0, 0, 0, 0\\n0, 0, 0, 0, 0, 0]'),\n",
       " Text(237.15, 21.744, 'entropy = 2.426\\nsamples = 176\\nvalue = [0, 36, 54, 32, 30, 3, 1, 18, 2, 0, 0, 0, 0\\n0, 0, 0, 0, 0, 0]'),\n",
       " Text(265.05, 21.744, 'entropy = 1.699\\nsamples = 37\\nvalue = [0, 15, 11, 0, 1, 0, 0, 10, 0, 0, 0, 0, 0, 0\\n0, 0, 0, 0, 0]'),\n",
       " Text(306.90000000000003, 65.232, 'X[0] <= 27.0\\nentropy = 1.534\\nsamples = 24\\nvalue = [0, 0, 0, 7, 11, 0, 0, 6, 0, 0, 0, 0, 0, 0\\n0, 0, 0, 0, 0]'),\n",
       " Text(292.95000000000005, 21.744, 'entropy = 0.918\\nsamples = 9\\nvalue = [0, 0, 0, 0, 3, 0, 0, 6, 0, 0, 0, 0, 0, 0\\n0, 0, 0, 0, 0]'),\n",
       " Text(320.85, 21.744, 'entropy = 0.997\\nsamples = 15\\nvalue = [0, 0, 0, 7, 8, 0, 0, 0, 0, 0, 0, 0, 0, 0\\n0, 0, 0, 0, 0]')]"
      ]
     },
     "execution_count": 43,
     "metadata": {},
     "output_type": "execute_result"
    },
    {
     "data": {
      "image/png": "[encoded data removed]",
      "text/plain": [
       "<Figure size 432x288 with 1 Axes>"
      ]
     },
     "metadata": {
      "needs_background": "light"
     },
     "output_type": "display_data"
    }
   ],
   "source": [
    "from sklearn import tree\n",
    "from sklearn.tree import export_graphviz\n",
    "tree.plot_tree(model, fontsize=6)\n",
    "export_graphviz(model, out_file='tree', impurity=False, class_names=True)"
   ]
  },
  {
   "cell_type": "code",
   "execution_count": null,
   "metadata": {},
   "outputs": [],
   "source": []
  }
 ],
 "metadata": {
  "kernelspec": {
   "display_name": "Python 3",
   "language": "python",
   "name": "python3"
  },
  "language_info": {
   "codemirror_mode": {
    "name": "ipython",
    "version": 3
   },
   "file_extension": ".py",
   "mimetype": "text/x-python",
   "name": "python",
   "nbconvert_exporter": "python",
   "pygments_lexer": "ipython3",
   "version": "3.8.3"
  }
 },
 "nbformat": 4,
 "nbformat_minor": 4
}
